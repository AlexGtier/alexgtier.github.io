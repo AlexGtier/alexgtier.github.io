{
  "nbformat": 4,
  "nbformat_minor": 0,
  "metadata": {
    "colab": {
      "provenance": [],
      "toc_visible": true,
      "authorship_tag": "ABX9TyMD33kAHITO4Pdv62MHtJUK",
      "include_colab_link": true
    },
    "kernelspec": {
      "name": "python3",
      "display_name": "Python 3"
    },
    "language_info": {
      "name": "python"
    }
  },
  "cells": [
    {
      "cell_type": "markdown",
      "metadata": {
        "id": "view-in-github",
        "colab_type": "text"
      },
      "source": [
        "<a href=\"https://colab.research.google.com/github/AlexGtier/alexgtier.github.io/blob/main/Convert.ipynb\" target=\"_parent\"><img src=\"https://colab.research.google.com/assets/colab-badge.svg\" alt=\"Open In Colab\"/></a>"
      ]
    },
    {
      "cell_type": "markdown",
      "source": [
        "#Convert"
      ],
      "metadata": {
        "id": "sAVNIoBuQYT-"
      }
    },
    {
      "cell_type": "markdown",
      "source": [
        "Le module Convert est une bibliothèque pour langage de programmation Python. Il fournit de multiples fonctions permettant notamment convertir les données GNSS manipulées :\n",
        "\n",
        "*   Conversion temporelle :\n",
        "    * date et heure, temps du jour (TOD),\n",
        "    * temps de la semaine (TOW),\n",
        "    * check année bissextile,\n",
        "    * temps en degrés/minute/seconde\n",
        "\n",
        "*   Conversion de référentiel :\n",
        "    * East / North / Up,\n",
        "    * Lat / Long / Alt (Geodetic),\n",
        "    * x / y / z (ECEF)\n"
      ],
      "metadata": {
        "id": "BD4rNg5fQtHs"
      }
    },
    {
      "cell_type": "markdown",
      "source": [
        "##LIB"
      ],
      "metadata": {
        "id": "vM0xikkBQbFe"
      }
    },
    {
      "cell_type": "code",
      "source": [
        "import numpy as np\n",
        "import pandas as pd\n",
        "import time\n",
        "import warnings\n",
        "from typing import List, Tuple, Union, Any"
      ],
      "metadata": {
        "id": "xPbCyedUHG67"
      },
      "execution_count": null,
      "outputs": []
    },
    {
      "cell_type": "markdown",
      "source": [
        "##TEMPOREL"
      ],
      "metadata": {
        "id": "Ph0LkRl-G29V"
      }
    },
    {
      "cell_type": "markdown",
      "source": [
        "###date2tow"
      ],
      "metadata": {
        "id": "04luMSR-F2pO"
      }
    },
    {
      "cell_type": "code",
      "source": [
        "def date2tow(y: int, m: int, d: int,\n",
        "             h: int, mn: int, s: Union[int, float],\n",
        "             ls: int) -> Union[int, float]:\n",
        "\n",
        "    \"\"\"\n",
        "    Conversion date (UTC) vers time of week (UTC)\n",
        "    y : year ; m : month ; d : day ; h : hour ;\n",
        "    mn : minutes ; s : second ; ls : leap second\n",
        "    (si ls = 18 --> UTC vers GPS sinon mettre à 0)\n",
        "    \"\"\"\n",
        "\n",
        "    y = int(2000 + y % 2000)\n",
        "    REF_Y = int(1980)\n",
        "    nb_y_diff = y - REF_Y\n",
        "    nb_leap_y = 0\n",
        "    feb = 28\n",
        "    sec = h*3600 + mn*60 + s + ls\n",
        "\n",
        "    checkYear = lambda year : (((year % 4 == 0) and\n",
        "                                (year % 100 != 0)) or\n",
        "                               (year % 400 == 0))\n",
        "\n",
        "    for i in range(REF_Y, y):\n",
        "        if checkYear(i):\n",
        "            nb_leap_y += 1\n",
        "\n",
        "    if checkYear(y):\n",
        "        feb = 29\n",
        "\n",
        "    nb_d = nb_leap_y*366 + (nb_y_diff-nb_leap_y)*365\n",
        "\n",
        "    if m == 1:\n",
        "        nb_d += d - 6\n",
        "    elif m == 2:\n",
        "        nb_d += 31 + d - 6\n",
        "    elif m == 3:\n",
        "        nb_d += 31 + feb + d - 6\n",
        "    elif m == 4:\n",
        "        nb_d += 31 + feb + 31 + d - 6\n",
        "    elif m == 5:\n",
        "        nb_d += (31*2) + feb + (30*1) + d-6\n",
        "    elif m == 6:\n",
        "        nb_d += (31*3) + feb + (30*1) + d-6\n",
        "    elif m == 7:\n",
        "        nb_d += (31*3) + feb + (30*2) + d-6\n",
        "    elif m == 8:\n",
        "        nb_d += (31*4) + feb + (30*2) + d-6\n",
        "    elif m == 9:\n",
        "        nb_d += (31*5) + feb + (30*2) + d-6\n",
        "    elif m == 10:\n",
        "        nb_d += (31*5) + feb + (30*3) + d-6\n",
        "    elif m == 11:\n",
        "        nb_d += (31*6) + feb + (30*3) + d-6\n",
        "    elif m == 12:\n",
        "        nb_d += (31*6) + feb + (30*4) + d-6\n",
        "\n",
        "    # week = round(np.floor(nb_d/7))\n",
        "    sec_tow = ((nb_d % 7)*86400) + sec\n",
        "    sec_tow = round(sec_tow, 2)\n",
        "\n",
        "    return sec_tow"
      ],
      "metadata": {
        "id": "i823W2b_F1jL"
      },
      "execution_count": null,
      "outputs": []
    },
    {
      "cell_type": "markdown",
      "source": [
        "###tow2tod"
      ],
      "metadata": {
        "id": "nAsON0TQF9BX"
      }
    },
    {
      "cell_type": "code",
      "source": [
        "def tow2tod(tow: List[Union[int, float]]) -> List[Union[int, float]]:\n",
        "\n",
        "    \"\"\"\n",
        "    Conversion multiple time of week (GPS) vers time of day (UTC)\n",
        "    \"\"\"\n",
        "\n",
        "    tow = tow.astype(float)\n",
        "    day = int((tow[0] - 18)//86400)\n",
        "    time = tow - day * 86400 - 18\n",
        "    T = 1\n",
        "    a = int(time[0])\n",
        "    b = int(time[-1])\n",
        "    time = np.arange(a, b+1, 1/T)  # linspace(a, b, int((b - a + 1*T)/T))\n",
        "\n",
        "    return time\n",
        "\n",
        "\n",
        "def tow2tod_(tow: Union[int,float], ls: int=18) -> Union[int,float]:\n",
        "\n",
        "    \"\"\"\n",
        "    Conversion unique time of week (GPS) vers time of day\n",
        "    (GPS vers UTC si ls (leap second) = 18 sinon ls = 0)\n",
        "    \"\"\"\n",
        "\n",
        "    return tow - ls - int((tow-ls)//86400) * 86400"
      ],
      "metadata": {
        "id": "viGaFtZ5GDHj"
      },
      "execution_count": null,
      "outputs": []
    },
    {
      "cell_type": "markdown",
      "source": [
        "###time2ind"
      ],
      "metadata": {
        "id": "BJK3XQumGDvA"
      }
    },
    {
      "cell_type": "code",
      "source": [
        "def time2ind(time: Union[int, float], ti: Union[int, float],\n",
        "             tf: Union[int, float]) -> Tuple[int, int]:\n",
        "\n",
        "    \"\"\"\n",
        "    Conversion d'un epoch (time) à l'indice de\n",
        "    début (ti) et de fin (tf) correspondant\n",
        "    \"\"\"\n",
        "\n",
        "    ind_i = 0\n",
        "    ind_f = 0\n",
        "\n",
        "    while time[ind_i] != ti:\n",
        "        ind_i += 1\n",
        "\n",
        "    while time[ind_f] != tf:\n",
        "        ind_f += 1\n",
        "\n",
        "    return ind_i, ind_f"
      ],
      "metadata": {
        "id": "WOZWyCueGG1J"
      },
      "execution_count": null,
      "outputs": []
    },
    {
      "cell_type": "markdown",
      "source": [
        "###unix2tow"
      ],
      "metadata": {
        "id": "Wo6m9noCWPgJ"
      }
    },
    {
      "cell_type": "code",
      "source": [
        "def unix2tow(unix: List[Union[int, float]]) -> Union[int, float]:\n",
        "\n",
        "    \"\"\"\n",
        "    Conversion d'un référence temporelle unix\n",
        "    en seconde UTC vers TOW UTC\n",
        "    \"\"\"\n",
        "\n",
        "    return date2tow(time.gmtime(unix).tm_year,\n",
        "                    time.gmtime(unix).tm_mon,\n",
        "                    time.gmtime(unix).tm_mday,\n",
        "                    time.gmtime(unix).tm_hour,\n",
        "                    time.gmtime(unix).tm_min,\n",
        "                    time.gmtime(unix).tm_sec + (unix - int(unix)), 0)"
      ],
      "metadata": {
        "id": "rzcKa4B2WqfW"
      },
      "execution_count": null,
      "outputs": []
    },
    {
      "cell_type": "markdown",
      "source": [
        "###check_t"
      ],
      "metadata": {
        "id": "gverbGg9K_aR"
      }
    },
    {
      "cell_type": "code",
      "source": [
        "def check_t(t: Union[int, float]) -> Union[int, float]:\n",
        "\n",
        "    \"\"\"\n",
        "    Contrôle si :\n",
        "    toe (tow) - heure d'emission (t_tx) < half_week\n",
        "    half_week = (24h+24h+24h+12h) = 302 400 s\n",
        "    \"\"\"\n",
        "\n",
        "    half_week = 302400\n",
        "    tt = t\n",
        "\n",
        "    if t > half_week:\n",
        "        tt = t - 2 * half_week\n",
        "\n",
        "    if t < - half_week:\n",
        "        tt = t + 2 * half_week\n",
        "\n",
        "    return tt"
      ],
      "metadata": {
        "id": "j7_MAesbK7lM"
      },
      "execution_count": null,
      "outputs": []
    },
    {
      "cell_type": "markdown",
      "source": [
        "###tod2time"
      ],
      "metadata": {
        "id": "2K6ab_JVGN5A"
      }
    },
    {
      "cell_type": "code",
      "execution_count": null,
      "metadata": {
        "id": "UudrM5L1ETb7"
      },
      "outputs": [],
      "source": [
        "def tod2time(t: Union[int, float], ls: int=18) -> Tuple[int, int, Union[int, float]]:\n",
        "\n",
        "    \"\"\"\n",
        "    Conversion TOD (UTC) vers heure (h, min, sec) (GPS) si ls = 18\n",
        "    \"\"\"\n",
        "    t += ls\n",
        "    return int(t // 3600), int((t % 3600) // 60), round((t % 3600) % 60, 3)"
      ]
    },
    {
      "cell_type": "markdown",
      "source": [
        "###deg2dms"
      ],
      "metadata": {
        "id": "S7t3THR5IiuT"
      }
    },
    {
      "cell_type": "code",
      "source": [
        "def deg2dms(deg: Union[int, float]) -> Union[int, float]:\n",
        "\n",
        "    \"\"\"\n",
        "    Conversion of degrees to degrees, minutes, and seconds.\n",
        "    The output format (dms format) is: (degrees*100 + minutes + seconds/100)\n",
        "    Save the sign for later processing.\n",
        "    \"\"\"\n",
        "\n",
        "    neg_arg = False\n",
        "\n",
        "    if deg < 0:\n",
        "        # Only positive numbers should be used while splitting into deg/min/sec\n",
        "        deg = -deg\n",
        "        neg_arg = True\n",
        "\n",
        "    # Split degrees minutes and seconds\n",
        "    int_deg = np.floor(deg)\n",
        "    decimal = deg - int_deg\n",
        "    min_part = decimal*60\n",
        "    min = np.floor(min_part)\n",
        "    sec_part = min_part - np.floor(min_part)\n",
        "    sec = sec_part*60\n",
        "\n",
        "    # Check for overflow\n",
        "    if sec == 60:\n",
        "        min = min + 1\n",
        "        sec = 0\n",
        "\n",
        "    if min == 60:\n",
        "        int_deg = int_deg + 1\n",
        "        min = 0\n",
        "\n",
        "    # Construct the output\n",
        "    dmsOutput = int_deg * 100 + min + sec/100\n",
        "\n",
        "    # Correct the sign\n",
        "    if neg_arg == True:\n",
        "        dmsOutput = -dmsOutput\n",
        "    else:\n",
        "        pass\n",
        "\n",
        "    return dmsOutput"
      ],
      "metadata": {
        "id": "_So6eWFFHAEg"
      },
      "execution_count": null,
      "outputs": []
    },
    {
      "cell_type": "markdown",
      "source": [
        "##RÉFÉRENTIEL"
      ],
      "metadata": {
        "id": "WCqgb-C-G-ku"
      }
    },
    {
      "cell_type": "code",
      "source": [
        "wgs84 = {\"name\": \"WGS-84 (1984)\", \"a\": 6378137.0, \"b\": 6356752.31424518}"
      ],
      "metadata": {
        "id": "7j_WhnSv_RDj"
      },
      "execution_count": null,
      "outputs": []
    },
    {
      "cell_type": "markdown",
      "source": [
        "###sanitize"
      ],
      "metadata": {
        "id": "g_EVDbr2Il_5"
      }
    },
    {
      "cell_type": "code",
      "source": [
        "def sanitize(lat: float, deg: bool) -> Tuple[float, Any]:\n",
        "\n",
        "    \"\"\"\n",
        "    Conversion deg2rad avec contrôle de la valeur.\n",
        "    \"\"\"\n",
        "\n",
        "    if deg:\n",
        "        lat = np.radians(lat)\n",
        "\n",
        "    try:\n",
        "        if (abs(lat) > np.pi / 2).any():\n",
        "            raise ValueError(\"-pi <= latitude <= pi\")\n",
        "    except (AttributeError, TypeError):\n",
        "        if abs(lat) > np.pi / 2:\n",
        "            raise ValueError(\"-pi <= latitude <= pi\")\n",
        "\n",
        "    return lat"
      ],
      "metadata": {
        "id": "6Il8SnMVIm8l"
      },
      "execution_count": null,
      "outputs": []
    },
    {
      "cell_type": "markdown",
      "source": [
        "###uvw2enu"
      ],
      "metadata": {
        "id": "MADLE6kEhA54"
      }
    },
    {
      "cell_type": "code",
      "source": [
        "def uvw2enu(u: float, v: float, w: float, lat0: float, lon0: float,\n",
        "            deg: bool = True) -> Tuple[float, float, float]:\n",
        "\n",
        "    \"\"\"\n",
        "    Parameters -----\n",
        "\n",
        "    u : float\n",
        "    v : float\n",
        "    w : float\n",
        "\n",
        "    Results -------\n",
        "\n",
        "    East : float\n",
        "        target east ENU coordinate (meters)\n",
        "    North : float\n",
        "        target north ENU coordinate (meters)\n",
        "    Up : float\n",
        "        target up ENU coordinate (meters)\n",
        "    \"\"\"\n",
        "    if deg:\n",
        "        lat0 = np.radians(lat0)\n",
        "        lon0 = np.radians(lon0)\n",
        "\n",
        "    cos_lat0 = np.cos(lat0)\n",
        "    sin_lat0 = np.sin(lat0)\n",
        "    cos_lon0 = np.cos(lon0)\n",
        "    sin_lon0 = np.sin(lon0)\n",
        "\n",
        "    t = cos_lon0 * u + sin_lon0 * v\n",
        "    East = -sin_lon0 * u + cos_lon0 * v\n",
        "    Up = cos_lat0 * t + sin_lat0 * w\n",
        "    North = -sin_lat0 * t + cos_lat0 * w\n",
        "\n",
        "    return East, North, Up"
      ],
      "metadata": {
        "id": "1QdhSNsNRbfp"
      },
      "execution_count": null,
      "outputs": []
    },
    {
      "cell_type": "markdown",
      "source": [
        "### enu2uvw"
      ],
      "metadata": {
        "id": "PHTGWhzw8Qt5"
      }
    },
    {
      "cell_type": "code",
      "source": [
        "def enu2uvw(east, north, up, lat0, lon0,\n",
        "            deg: bool = True) -> Tuple[float, float, float]:\n",
        "    \"\"\"\n",
        "    Parameters\n",
        "    ----------\n",
        "\n",
        "    e1\n",
        "        target east ENU coordinate (meters)\n",
        "    n1\n",
        "        target north ENU coordinate (meters)\n",
        "    u1\n",
        "        target up ENU coordinate (meters)\n",
        "\n",
        "    Results\n",
        "    -------\n",
        "\n",
        "    u\n",
        "    v\n",
        "    w\n",
        "    \"\"\"\n",
        "\n",
        "    if deg:\n",
        "        lat0 = np.radians(lat0)\n",
        "        lon0 = np.radians(lon0)\n",
        "\n",
        "    t = np.cos(lat0) * up - np.sin(lat0) * north\n",
        "    w = np.sin(lat0) * up + np.cos(lat0) * north\n",
        "\n",
        "    u = np.cos(lon0) * t - np.sin(lon0) * east\n",
        "    v = np.sin(lon0) * t + np.cos(lon0) * east\n",
        "\n",
        "    return u, v, w"
      ],
      "metadata": {
        "id": "fJ8eNio78TEW"
      },
      "execution_count": null,
      "outputs": []
    },
    {
      "cell_type": "markdown",
      "source": [
        "###geodetic2ecef"
      ],
      "metadata": {
        "id": "OCa3vxQi9boX"
      }
    },
    {
      "cell_type": "code",
      "source": [
        "def geodetic2ecef(lat: float, lon: float, alt: float,\n",
        "                  deg: bool = True) -> Tuple[float, float, float]:\n",
        "\n",
        "    \"\"\"\n",
        "    Point transformation from Geodetic of specified ellipsoid\n",
        "    (default WGS-84) to ECEF.\n",
        "\n",
        "    Parameters -----\n",
        "\n",
        "    lat : target geodetic latitude\n",
        "    lon : target geodetic longitude\n",
        "    h : target altitude above geodetic ellipsoid (meters)\n",
        "    ell : Ellipsoid wgs84 (default)\n",
        "    deg : (optional) degrees input/output  (False: radians in/out)\n",
        "\n",
        "    Returns -------\n",
        "\n",
        "    ECEF (Earth centered, Earth fixed)  x,y,z\n",
        "\n",
        "    x : target x ECEF coordinate (meters)\n",
        "    y : target y ECEF coordinate (meters)\n",
        "    z : target z ECEF coordinate (meters)\n",
        "    \"\"\"\n",
        "\n",
        "    lat = sanitize(lat, deg)\n",
        "    if deg:\n",
        "        lon = np.radians(lon)\n",
        "\n",
        "    # radius of curvature of the prime vertical section\n",
        "    semimajor_axis = 6378137.0\n",
        "    semiminor_axis = 6356752.31424518\n",
        "\n",
        "    e2 = (semimajor_axis ** 2 - semiminor_axis ** 2) / semimajor_axis ** 2\n",
        "    N = semimajor_axis ** 2 / np.sqrt(semimajor_axis ** 2 * np.cos(lat) ** 2\n",
        "                                   + semiminor_axis ** 2 * np.sin(lat) ** 2)\n",
        "\n",
        "    # Compute cartesian (geocentric) coordinates given  (curvilinear) geodetic\n",
        "    # coordinates.\n",
        "    x = (N + alt) * np.cos(lat) * np.cos(lon)\n",
        "    y = (N + alt) * np.cos(lat) * np.sin(lon)\n",
        "    # z = (N * (semiminor_axis / semimajor_axis) ** 2 + alt) * np.sin(lat)\n",
        "    z = (N * (1 - e2) + alt) * np.sin(lat)\n",
        "\n",
        "    return x, y, z"
      ],
      "metadata": {
        "id": "0b-X01yeSa9O"
      },
      "execution_count": null,
      "outputs": []
    },
    {
      "cell_type": "markdown",
      "source": [
        "### enu2ecef"
      ],
      "metadata": {
        "id": "2wcNgurk6CeU"
      }
    },
    {
      "cell_type": "code",
      "source": [
        "def enu2ecef(e1, n1, u1, lat0, lon0, h0,\n",
        "             deg: bool = True) -> Tuple[float, float, float]:\n",
        "    \"\"\"\n",
        "    ENU to ECEF\n",
        "\n",
        "    Parameters\n",
        "    ----------\n",
        "\n",
        "    e1\n",
        "        target east ENU coordinate (meters)\n",
        "    n1\n",
        "        target north ENU coordinate (meters)\n",
        "    u1\n",
        "        target up ENU coordinate (meters)\n",
        "    lat0\n",
        "        Observer geodetic latitude\n",
        "    lon0\n",
        "        Observer geodetic longitude\n",
        "    h0\n",
        "         observer altitude above geodetic ellipsoid (meters)\n",
        "    ell : Ellipsoid\n",
        "          wgs84 (default)\n",
        "    deg : bool, optional\n",
        "          degrees input/output  (False: radians in/out)\n",
        "\n",
        "\n",
        "    Results\n",
        "    -------\n",
        "    x\n",
        "        target x ECEF coordinate (meters)\n",
        "    y\n",
        "        target y ECEF coordinate (meters)\n",
        "    z\n",
        "        target z ECEF coordinate (meters)\n",
        "    \"\"\"\n",
        "    x0, y0, z0 = geodetic2ecef(lat0, lon0, h0, deg=deg)\n",
        "    dx, dy, dz = enu2uvw(e1, n1, u1, lat0, lon0, deg=deg)\n",
        "\n",
        "    return x0 + dx, y0 + dy, z0 + dz"
      ],
      "metadata": {
        "id": "RblKzbNb6H6u"
      },
      "execution_count": null,
      "outputs": []
    },
    {
      "cell_type": "markdown",
      "source": [
        "### ecef2geodetic"
      ],
      "metadata": {
        "id": "YuzoPRE36GHa"
      }
    },
    {
      "cell_type": "code",
      "source": [
        "def ecef2geodetic(x, y, z, deg: bool = True) -> Tuple[float, float, float]:\n",
        "    \"\"\"\n",
        "    convert ECEF (meters) to geodetic coordinates\n",
        "\n",
        "    Parameters\n",
        "    ----------\n",
        "    x\n",
        "        target x ECEF coordinate (meters)\n",
        "    y\n",
        "        target y ECEF coordinate (meters)\n",
        "    z\n",
        "        target z ECEF coordinate (meters)\n",
        "    ell : Ellipsoid\n",
        "          wgs84 (default)\n",
        "    deg : bool, optional\n",
        "          degrees input/output  (False: radians in/out)\n",
        "\n",
        "    Returns\n",
        "    -------\n",
        "    lat\n",
        "           target geodetic latitude\n",
        "    lon\n",
        "           target geodetic longitude\n",
        "    alt\n",
        "         target altitude above geodetic ellipsoid (meters)\n",
        "\n",
        "    based on:\n",
        "    You, Rey-Jer. (2000). Transformation of Cartesian to Geodetic Coordinates without Iterations.\n",
        "    Journal of Surveying Engineering. doi: 10.1061/(ASCE)0733-9453\n",
        "    \"\"\"\n",
        "\n",
        "    # radius of curvature of the prime vertical section\n",
        "    semimajor_axis = ['a'] #6378137.0\n",
        "    semiminor_axis = wgs84['b'] #6356752.31424518\n",
        "\n",
        "    try:\n",
        "        x = asarray(x)\n",
        "        y = asarray(y)\n",
        "        z = asarray(z)\n",
        "    except NameError:\n",
        "        pass\n",
        "\n",
        "    r = np.sqrt(x**2 + y**2 + z**2)\n",
        "\n",
        "    E = np.sqrt(semimajor_axis**2 - semiminor_axis**2)\n",
        "\n",
        "    # eqn. 4a\n",
        "    u = np.sqrt(0.5 * (r**2 - E**2) + 0.5 * np.hypot(r**2 - E**2, 2 * E * z))\n",
        "\n",
        "    Q = np.hypot(x, y)\n",
        "\n",
        "    huE = np.hypot(u, E)\n",
        "\n",
        "    # eqn. 4b\n",
        "    try:\n",
        "        with warnings.catch_warnings(record=True):\n",
        "            warnings.simplefilter(\"error\")\n",
        "            Beta = np.arctan(huE / u * z / np.hypot(x, y))\n",
        "    except (ArithmeticError, RuntimeWarning):\n",
        "        if np.isclose(z, 0):\n",
        "            Beta = 0\n",
        "        elif z > 0:\n",
        "            Beta = np.pi / 2\n",
        "        else:\n",
        "            Beta = -np.pi / 2\n",
        "\n",
        "    # eqn. 13\n",
        "    dBeta = ((semiminor_axis * u - semimajor_axis * huE + E**2) * np.sin(Beta)) / (\n",
        "        semimajor_axis * huE * 1 / np.cos(Beta) - E**2 * np.cos(Beta)\n",
        "    )\n",
        "\n",
        "    Beta += dBeta\n",
        "\n",
        "    # eqn. 4c\n",
        "    # %% final output\n",
        "    lat = np.arctan(semimajor_axis / semiminor_axis * np.tan(Beta))\n",
        "\n",
        "    try:\n",
        "        # patch latitude for float32 precision loss\n",
        "        lim_pi2 = np.pi / 2 - np.finfo(dBeta.dtype).eps\n",
        "        lat = np.where(Beta >= lim_pi2, pi / 2, lat)\n",
        "        lat = np.where(Beta <= -lim_pi2, -pi / 2, lat)\n",
        "    except NameError:\n",
        "        pass\n",
        "\n",
        "    lon = np.arctan2(y, x)\n",
        "\n",
        "    # eqn. 7\n",
        "    cosBeta = np.cos(Beta)\n",
        "    try:\n",
        "        # patch altitude for float32 precision loss\n",
        "        cosBeta = np.where(Beta >= lim_pi2, 0, cosBeta)\n",
        "        cosBeta = np.where(Beta <= -lim_pi2, 0, cosBeta)\n",
        "    except NameError:\n",
        "        pass\n",
        "\n",
        "    alt = np.hypot(z - semiminor_axis * np.sin(Beta), Q - semimajor_axis * cosBeta)\n",
        "\n",
        "    # inside ellipsoid?\n",
        "    inside = (\n",
        "        x**2 / semimajor_axis**2\n",
        "        + y**2 / semimajor_axis**2\n",
        "        + z**2 / semiminor_axis**2\n",
        "        < 1\n",
        "    )\n",
        "\n",
        "    try:\n",
        "        if inside.any():\n",
        "            # avoid all false assignment bug\n",
        "            alt[inside] = -alt[inside]\n",
        "    except (TypeError, AttributeError):\n",
        "        if inside:\n",
        "            alt = -alt\n",
        "\n",
        "    if deg:\n",
        "        lat = np.degrees(lat)\n",
        "        lon = np.degrees(lon)\n",
        "\n",
        "    return lat, lon, alt"
      ],
      "metadata": {
        "id": "ZCa_tBbc6IV5"
      },
      "execution_count": null,
      "outputs": []
    },
    {
      "cell_type": "markdown",
      "source": [
        "###enu2geodetic"
      ],
      "metadata": {
        "id": "Tpio-XGu5iCz"
      }
    },
    {
      "cell_type": "code",
      "source": [
        "def enu2geodetic(e, n, u, lat0, lon0, h0,\n",
        "                 deg: bool = True) -> Tuple[float, float, float]:\n",
        "\n",
        "    \"\"\"\n",
        "    East, North, Up to target to geodetic coordinates\n",
        "\n",
        "    Parameters\n",
        "    ----------\n",
        "    e : float\n",
        "        East ENU coordinate (meters)\n",
        "    n : float\n",
        "        North ENU coordinate (meters)\n",
        "    u : float\n",
        "        Up ENU coordinate (meters)\n",
        "    lat0 : float\n",
        "           Observer geodetic latitude\n",
        "    lon0 : float\n",
        "           Observer geodetic longitude\n",
        "    h0 : float\n",
        "         observer altitude above geodetic ellipsoid (meters)\n",
        "    ell : Ellipsoid\n",
        "          wgs84 (default)\n",
        "    deg : bool, optional\n",
        "          degrees input/output  (False: radians in/out)\n",
        "\n",
        "\n",
        "    Results\n",
        "    -------\n",
        "    lat : float\n",
        "          geodetic latitude\n",
        "    lon : float\n",
        "          geodetic longitude\n",
        "    alt : float\n",
        "          altitude above ellipsoid  (meters)\n",
        "    \"\"\"\n",
        "\n",
        "    x, y, z = enu2ecef(e, n, u, lat0, lon0, h0, deg=deg)\n",
        "\n",
        "    return ecef2geodetic(x, y, z, deg=deg)"
      ],
      "metadata": {
        "id": "-0TEauNs5m5W"
      },
      "execution_count": null,
      "outputs": []
    },
    {
      "cell_type": "markdown",
      "source": [
        "###enu2aer"
      ],
      "metadata": {
        "id": "qX4SudXp9d91"
      }
    },
    {
      "cell_type": "code",
      "source": [
        "def enu2aer(e: float, n:float, u:float, deg: bool = True) -> Tuple:\n",
        "\n",
        "    \"\"\"\n",
        "    ENU to Azimuth, Elevation, Range\n",
        "    Parameters\n",
        "    ----------\n",
        "    e : float\n",
        "        ENU East coordinate (meters)\n",
        "    n : float\n",
        "        ENU North coordinate (meters)\n",
        "    u : float\n",
        "        ENU Up coordinate (meters)\n",
        "    deg : bool, optional\n",
        "        degrees input/output  (False: radians in/out)\n",
        "    Results\n",
        "    -------\n",
        "    azimuth : float\n",
        "        azimuth to rarget\n",
        "    elevation : float\n",
        "        elevation to target\n",
        "    srange : float\n",
        "        slant range [meters]\n",
        "    \"\"\"\n",
        "\n",
        "    # 1 millimeter precision for singularity stability\n",
        "\n",
        "    TAU = 2 * np.pi\n",
        "\n",
        "    try:\n",
        "        e[abs(e) < 1e-3] = 0.0\n",
        "        n[abs(n) < 1e-3] = 0.0\n",
        "        u[abs(u) < 1e-3] = 0.0\n",
        "    except TypeError:\n",
        "        if abs(e) < 1e-3:\n",
        "            e = 0.0  # type: ignore\n",
        "        if abs(n) < 1e-3:\n",
        "            n = 0.0  # type: ignore\n",
        "        if abs(u) < 1e-3:\n",
        "            u = 0.0  # type: ignore\n",
        "\n",
        "    r = np.hypot(e, n)\n",
        "    slantRange = np.hypot(r, u)\n",
        "    elev = np.arctan2(u, r)\n",
        "    az = np.arctan2(e, n) % TAU\n",
        "\n",
        "    if deg:\n",
        "        az = np.degrees(az)\n",
        "        elev = np.degrees(elev)\n",
        "\n",
        "    return az, elev, slantRange"
      ],
      "metadata": {
        "id": "bt2fycvDUCun"
      },
      "execution_count": null,
      "outputs": []
    },
    {
      "cell_type": "markdown",
      "source": [
        "###ecef2enu"
      ],
      "metadata": {
        "id": "qMkZcU4Leq21"
      }
    },
    {
      "cell_type": "code",
      "source": [
        "def ecef2enu(x: float, y: float, z: float, lat0: float, lon0: float, h0: float,\n",
        "             deg: bool = True) -> Tuple[float, float, float]:\n",
        "\n",
        "    \"\"\"\n",
        "    from observer to target, ECEF => ENU\n",
        "\n",
        "    Parameters\n",
        "    ----------\n",
        "    x : target x ECEF coordinate (meters)\n",
        "    y : target y ECEF coordinate (meters)\n",
        "    z : target z ECEF coordinate (meters)\n",
        "    lat0 : Observer geodetic latitude\n",
        "    lon0 : Observer geodetic longitude\n",
        "    h0 : observer altitude above geodetic ellipsoid (meters)\n",
        "    ell : Ellipsoid, wgs84 (default)\n",
        "    deg : (optional) degrees input/output  (False: radians in/out)\n",
        "\n",
        "    Returns\n",
        "    -------\n",
        "    East : float\n",
        "        target east ENU coordinate (meters)\n",
        "    North : float\n",
        "        target north ENU coordinate (meters)\n",
        "    Up : float\n",
        "        target up ENU coordinate (meters)\n",
        "\n",
        "    \"\"\"\n",
        "    x0, y0, z0 = geodetic2ecef(lat0, lon0, h0, deg=deg)\n",
        "\n",
        "    return uvw2enu(x - x0, y - y0, z - z0, lat0, lon0, deg=deg)"
      ],
      "metadata": {
        "id": "VtLgYSsdes6O"
      },
      "execution_count": null,
      "outputs": []
    },
    {
      "cell_type": "markdown",
      "source": [
        "###ref2ecef"
      ],
      "metadata": {
        "id": "0jwXst7fanop"
      }
    },
    {
      "cell_type": "code",
      "source": [
        "def ref2ecef(ref: pd.DataFrame) -> pd.DataFrame:\n",
        "\n",
        "    \"\"\"\n",
        "    Ajout d'une colonne à ref par conversion de la trajectoire de référence\n",
        "    de coordonnées géodésique (az, el , alt) en géocentrique / ecef (x, y, z)\n",
        "    \"\"\"\n",
        "\n",
        "    lat = ref.loc[:, 'lat'] * np.pi/180  # deg2rad\n",
        "    lon = ref.loc[:, 'lon'] * np.pi/180  # deg2rad\n",
        "    alt = ref.loc[:, 'alt']\n",
        "\n",
        "    x, y, z = geodetic2ecef(lat.astype(float),\n",
        "                            lon.astype(float),\n",
        "                            alt.astype(float),\n",
        "                            False)\n",
        "\n",
        "    ref['x'] = x\n",
        "    ref['y'] = y\n",
        "    ref['z'] = z\n",
        "\n",
        "    return ref"
      ],
      "metadata": {
        "id": "V2QbWdZ7aoyM"
      },
      "execution_count": null,
      "outputs": []
    }
  ]
}